{
 "cells": [
  {
   "cell_type": "code",
   "execution_count": 1,
   "id": "5677b36a-d5c6-4967-b6ad-fcd2db4e7e84",
   "metadata": {},
   "outputs": [],
   "source": [
    "#Q.1 Calculate the sum, difference, product and quotient of two numbers"
   ]
  },
  {
   "cell_type": "code",
   "execution_count": 2,
   "id": "8198b14f-cf6c-41ac-8755-08537414ea19",
   "metadata": {},
   "outputs": [],
   "source": [
    "a = 8"
   ]
  },
  {
   "cell_type": "code",
   "execution_count": 3,
   "id": "d63a2d00-2748-47cd-bd69-d7a2d942f4ee",
   "metadata": {},
   "outputs": [],
   "source": [
    "b = 9"
   ]
  },
  {
   "cell_type": "code",
   "execution_count": 4,
   "id": "a1d735d3-9b15-482c-8096-5774850434e2",
   "metadata": {},
   "outputs": [
    {
     "data": {
      "text/plain": [
       "17"
      ]
     },
     "execution_count": 4,
     "metadata": {},
     "output_type": "execute_result"
    }
   ],
   "source": [
    "a+b"
   ]
  },
  {
   "cell_type": "code",
   "execution_count": 5,
   "id": "be8f6f7d-e57e-439f-b107-b1fa43395472",
   "metadata": {},
   "outputs": [],
   "source": [
    "c = 11"
   ]
  },
  {
   "cell_type": "code",
   "execution_count": 6,
   "id": "2d986263-cc2e-412a-9979-ee2f59202696",
   "metadata": {},
   "outputs": [],
   "source": [
    "d = 5"
   ]
  },
  {
   "cell_type": "code",
   "execution_count": 7,
   "id": "1fdacca3-e831-41b8-86b2-4868259db9ab",
   "metadata": {},
   "outputs": [
    {
     "data": {
      "text/plain": [
       "6"
      ]
     },
     "execution_count": 7,
     "metadata": {},
     "output_type": "execute_result"
    }
   ],
   "source": [
    "c-d"
   ]
  },
  {
   "cell_type": "code",
   "execution_count": 8,
   "id": "a0afe5fa-89f1-4821-9431-c2cb78638cb0",
   "metadata": {},
   "outputs": [],
   "source": [
    "e = 6"
   ]
  },
  {
   "cell_type": "code",
   "execution_count": 9,
   "id": "63989090-2239-43ea-a418-20416712cf5a",
   "metadata": {},
   "outputs": [],
   "source": [
    "f = 7"
   ]
  },
  {
   "cell_type": "code",
   "execution_count": 10,
   "id": "6b252672-5b11-4443-b936-3ec02158d642",
   "metadata": {},
   "outputs": [
    {
     "data": {
      "text/plain": [
       "42"
      ]
     },
     "execution_count": 10,
     "metadata": {},
     "output_type": "execute_result"
    }
   ],
   "source": [
    "e*f"
   ]
  },
  {
   "cell_type": "code",
   "execution_count": 11,
   "id": "b1a15aba-a1c3-41c0-965d-ed95f00a67ae",
   "metadata": {},
   "outputs": [],
   "source": [
    "g = 30"
   ]
  },
  {
   "cell_type": "code",
   "execution_count": 12,
   "id": "fdf9d5fa-0871-4bfa-a264-bbdb2c8499f4",
   "metadata": {},
   "outputs": [],
   "source": [
    "h = 5"
   ]
  },
  {
   "cell_type": "code",
   "execution_count": 13,
   "id": "b882cbcd-40a7-4ddc-b319-459146eb4fdc",
   "metadata": {},
   "outputs": [
    {
     "data": {
      "text/plain": [
       "6.0"
      ]
     },
     "execution_count": 13,
     "metadata": {},
     "output_type": "execute_result"
    }
   ],
   "source": [
    "g/h"
   ]
  },
  {
   "cell_type": "code",
   "execution_count": 14,
   "id": "ac0ef888-0d92-4c35-92c7-33fba39126c1",
   "metadata": {},
   "outputs": [],
   "source": [
    "#Q.2 Perform various assignment operations on a variable."
   ]
  },
  {
   "cell_type": "code",
   "execution_count": 15,
   "id": "4e3316fe-72d7-4179-b949-759c7d68d7e0",
   "metadata": {},
   "outputs": [],
   "source": [
    "i = 20"
   ]
  },
  {
   "cell_type": "code",
   "execution_count": 16,
   "id": "9577fc40-6a5d-4d7d-865d-df72febe1cb9",
   "metadata": {},
   "outputs": [],
   "source": [
    "i+=5"
   ]
  },
  {
   "cell_type": "code",
   "execution_count": 17,
   "id": "dee4fe7b-78d1-443e-a1e8-0db5652cd092",
   "metadata": {},
   "outputs": [
    {
     "data": {
      "text/plain": [
       "25"
      ]
     },
     "execution_count": 17,
     "metadata": {},
     "output_type": "execute_result"
    }
   ],
   "source": [
    "i"
   ]
  },
  {
   "cell_type": "code",
   "execution_count": 18,
   "id": "5e457b06-2727-4f81-8ad2-2a6d7e178e72",
   "metadata": {},
   "outputs": [],
   "source": [
    "i*=3"
   ]
  },
  {
   "cell_type": "code",
   "execution_count": 19,
   "id": "1f746dc4-cc30-4ea7-b78e-7804493fed8b",
   "metadata": {},
   "outputs": [
    {
     "data": {
      "text/plain": [
       "75"
      ]
     },
     "execution_count": 19,
     "metadata": {},
     "output_type": "execute_result"
    }
   ],
   "source": [
    "i"
   ]
  },
  {
   "cell_type": "code",
   "execution_count": 20,
   "id": "d442ba16-922c-4c4a-b1e6-00ce2ad70601",
   "metadata": {},
   "outputs": [],
   "source": [
    "i-=15"
   ]
  },
  {
   "cell_type": "code",
   "execution_count": 21,
   "id": "d497fcfc-4445-4dfa-aa57-2ef28289d53b",
   "metadata": {},
   "outputs": [
    {
     "data": {
      "text/plain": [
       "60"
      ]
     },
     "execution_count": 21,
     "metadata": {},
     "output_type": "execute_result"
    }
   ],
   "source": [
    "i"
   ]
  },
  {
   "cell_type": "code",
   "execution_count": 22,
   "id": "21b3f3dd-0bc6-4a61-b637-6094ec1f0e9b",
   "metadata": {},
   "outputs": [],
   "source": [
    "i/=3"
   ]
  },
  {
   "cell_type": "code",
   "execution_count": 23,
   "id": "283d9a0c-22bb-4358-9a9d-622446f5f197",
   "metadata": {},
   "outputs": [
    {
     "data": {
      "text/plain": [
       "20.0"
      ]
     },
     "execution_count": 23,
     "metadata": {},
     "output_type": "execute_result"
    }
   ],
   "source": [
    "i"
   ]
  },
  {
   "cell_type": "code",
   "execution_count": 24,
   "id": "bcd3901f-584b-4c33-93ae-b31659b1d40c",
   "metadata": {},
   "outputs": [],
   "source": [
    "#Q.3 Compare two numbers and print the results."
   ]
  },
  {
   "cell_type": "code",
   "execution_count": 25,
   "id": "ad5ce5a0-133e-4ffb-999b-7937b5d40dee",
   "metadata": {},
   "outputs": [
    {
     "data": {
      "text/plain": [
       "True"
      ]
     },
     "execution_count": 25,
     "metadata": {},
     "output_type": "execute_result"
    }
   ],
   "source": [
    "2==2"
   ]
  },
  {
   "cell_type": "code",
   "execution_count": 26,
   "id": "8de517d0-4236-4d34-b299-66423c93612d",
   "metadata": {},
   "outputs": [
    {
     "data": {
      "text/plain": [
       "True"
      ]
     },
     "execution_count": 26,
     "metadata": {},
     "output_type": "execute_result"
    }
   ],
   "source": [
    "15>12"
   ]
  },
  {
   "cell_type": "code",
   "execution_count": 27,
   "id": "09061cb4-ccba-4f75-8a03-990b767b4d80",
   "metadata": {},
   "outputs": [
    {
     "data": {
      "text/plain": [
       "True"
      ]
     },
     "execution_count": 27,
     "metadata": {},
     "output_type": "execute_result"
    }
   ],
   "source": [
    "20>=18"
   ]
  },
  {
   "cell_type": "code",
   "execution_count": 28,
   "id": "46bedb79-cf80-465b-8bfd-7068fa7f2a4f",
   "metadata": {},
   "outputs": [
    {
     "data": {
      "text/plain": [
       "True"
      ]
     },
     "execution_count": 28,
     "metadata": {},
     "output_type": "execute_result"
    }
   ],
   "source": [
    "46<98"
   ]
  },
  {
   "cell_type": "code",
   "execution_count": 29,
   "id": "7d50addf-4314-4f78-ab38-cf503a50a6c1",
   "metadata": {},
   "outputs": [
    {
     "data": {
      "text/plain": [
       "False"
      ]
     },
     "execution_count": 29,
     "metadata": {},
     "output_type": "execute_result"
    }
   ],
   "source": [
    "10<5"
   ]
  },
  {
   "cell_type": "code",
   "execution_count": 30,
   "id": "49bdc75d-3cc9-4c1e-99e6-214e600c488f",
   "metadata": {},
   "outputs": [
    {
     "data": {
      "text/plain": [
       "True"
      ]
     },
     "execution_count": 30,
     "metadata": {},
     "output_type": "execute_result"
    }
   ],
   "source": [
    "15>=15"
   ]
  },
  {
   "cell_type": "code",
   "execution_count": 31,
   "id": "a7b3341b-b0fe-46a4-98a2-659f18779f87",
   "metadata": {},
   "outputs": [],
   "source": [
    "a = 55<78"
   ]
  },
  {
   "cell_type": "code",
   "execution_count": 32,
   "id": "54870b96-4f07-45b9-9933-0ab9f39771d8",
   "metadata": {},
   "outputs": [
    {
     "name": "stdout",
     "output_type": "stream",
     "text": [
      "True\n"
     ]
    }
   ],
   "source": [
    "print(a)"
   ]
  },
  {
   "cell_type": "code",
   "execution_count": 33,
   "id": "3ff82945-aac8-4466-b21c-97a99e1d7746",
   "metadata": {},
   "outputs": [],
   "source": [
    "b = 78>=66"
   ]
  },
  {
   "cell_type": "code",
   "execution_count": 34,
   "id": "b76592d8-f8d3-4a94-90ac-f5964c557e0d",
   "metadata": {},
   "outputs": [
    {
     "name": "stdout",
     "output_type": "stream",
     "text": [
      "True\n"
     ]
    }
   ],
   "source": [
    "print(b)"
   ]
  },
  {
   "cell_type": "code",
   "execution_count": 35,
   "id": "aaf57256-651a-477c-ad8b-3263bf1cd645",
   "metadata": {},
   "outputs": [],
   "source": [
    "#Q.4 Check conditions using logical operators."
   ]
  },
  {
   "cell_type": "code",
   "execution_count": 36,
   "id": "0a99ab58-49ad-4112-a12d-17e285d9151b",
   "metadata": {},
   "outputs": [
    {
     "data": {
      "text/plain": [
       "True"
      ]
     },
     "execution_count": 36,
     "metadata": {},
     "output_type": "execute_result"
    }
   ],
   "source": [
    "True and True"
   ]
  },
  {
   "cell_type": "code",
   "execution_count": 37,
   "id": "cc8dcd6c-ef49-42dc-b320-ff1f74c1b2bc",
   "metadata": {},
   "outputs": [
    {
     "data": {
      "text/plain": [
       "False"
      ]
     },
     "execution_count": 37,
     "metadata": {},
     "output_type": "execute_result"
    }
   ],
   "source": [
    "True and False"
   ]
  },
  {
   "cell_type": "code",
   "execution_count": 38,
   "id": "e90c5e37-f45b-4099-8acb-b88e4adc014a",
   "metadata": {},
   "outputs": [
    {
     "data": {
      "text/plain": [
       "False"
      ]
     },
     "execution_count": 38,
     "metadata": {},
     "output_type": "execute_result"
    }
   ],
   "source": [
    "False and True"
   ]
  },
  {
   "cell_type": "code",
   "execution_count": 39,
   "id": "e72c31e6-bcf0-4c3f-866f-dad729d6293c",
   "metadata": {},
   "outputs": [
    {
     "data": {
      "text/plain": [
       "False"
      ]
     },
     "execution_count": 39,
     "metadata": {},
     "output_type": "execute_result"
    }
   ],
   "source": [
    "False and False"
   ]
  },
  {
   "cell_type": "code",
   "execution_count": 40,
   "id": "9d099fc8-66c8-40d1-9efe-5f1c75cbc821",
   "metadata": {},
   "outputs": [
    {
     "data": {
      "text/plain": [
       "True"
      ]
     },
     "execution_count": 40,
     "metadata": {},
     "output_type": "execute_result"
    }
   ],
   "source": [
    "True or False"
   ]
  },
  {
   "cell_type": "code",
   "execution_count": 41,
   "id": "06197467-1b00-42d9-b842-77116db17178",
   "metadata": {},
   "outputs": [
    {
     "data": {
      "text/plain": [
       "False"
      ]
     },
     "execution_count": 41,
     "metadata": {},
     "output_type": "execute_result"
    }
   ],
   "source": [
    "False or False"
   ]
  },
  {
   "cell_type": "code",
   "execution_count": 42,
   "id": "1dab01da-9e8c-440c-8a43-b8e4a8d399af",
   "metadata": {},
   "outputs": [
    {
     "data": {
      "text/plain": [
       "False"
      ]
     },
     "execution_count": 42,
     "metadata": {},
     "output_type": "execute_result"
    }
   ],
   "source": [
    "not True"
   ]
  },
  {
   "cell_type": "code",
   "execution_count": 43,
   "id": "1c436283-e255-43a1-b5d0-9ec437b6668f",
   "metadata": {},
   "outputs": [
    {
     "data": {
      "text/plain": [
       "True"
      ]
     },
     "execution_count": 43,
     "metadata": {},
     "output_type": "execute_result"
    }
   ],
   "source": [
    "not False"
   ]
  },
  {
   "cell_type": "code",
   "execution_count": 44,
   "id": "9fa62118-8933-4e99-b142-2f577d4be70f",
   "metadata": {},
   "outputs": [],
   "source": [
    "#Q.5 Check the identity of variables."
   ]
  },
  {
   "cell_type": "code",
   "execution_count": 45,
   "id": "274d81b1-776d-4e0a-a7d9-a5fa13b6d96a",
   "metadata": {},
   "outputs": [],
   "source": [
    "a = 5"
   ]
  },
  {
   "cell_type": "code",
   "execution_count": 46,
   "id": "b17e5278-8150-4e65-8bd8-7e9458318b6e",
   "metadata": {},
   "outputs": [],
   "source": [
    "b = 8"
   ]
  },
  {
   "cell_type": "code",
   "execution_count": 47,
   "id": "687715c5-7b4f-4664-9ec5-7f5c9842608a",
   "metadata": {},
   "outputs": [
    {
     "data": {
      "text/plain": [
       "False"
      ]
     },
     "execution_count": 47,
     "metadata": {},
     "output_type": "execute_result"
    }
   ],
   "source": [
    "a is b"
   ]
  },
  {
   "cell_type": "code",
   "execution_count": 48,
   "id": "058e4ebe-0d93-4084-9470-eb0fba362789",
   "metadata": {},
   "outputs": [],
   "source": [
    "c = 10"
   ]
  },
  {
   "cell_type": "code",
   "execution_count": 49,
   "id": "b6f238fa-b00f-440c-8681-d26b6ed44e21",
   "metadata": {},
   "outputs": [],
   "source": [
    "d = c"
   ]
  },
  {
   "cell_type": "code",
   "execution_count": 50,
   "id": "5f2ccaca-6924-4ada-ad8b-238f9488932d",
   "metadata": {},
   "outputs": [
    {
     "data": {
      "text/plain": [
       "True"
      ]
     },
     "execution_count": 50,
     "metadata": {},
     "output_type": "execute_result"
    }
   ],
   "source": [
    "d is c"
   ]
  },
  {
   "cell_type": "code",
   "execution_count": 51,
   "id": "cc1bbabf-e3c7-48ea-949d-90c98cc1aa90",
   "metadata": {},
   "outputs": [],
   "source": [
    "e = \"Gaurav\""
   ]
  },
  {
   "cell_type": "code",
   "execution_count": 52,
   "id": "d5808c4c-962e-4062-8d6a-0bb2edebfe83",
   "metadata": {},
   "outputs": [],
   "source": [
    "f = e"
   ]
  },
  {
   "cell_type": "code",
   "execution_count": 53,
   "id": "17e381b4-b36a-44fb-8f9f-40129b78075d",
   "metadata": {},
   "outputs": [
    {
     "data": {
      "text/plain": [
       "True"
      ]
     },
     "execution_count": 53,
     "metadata": {},
     "output_type": "execute_result"
    }
   ],
   "source": [
    "e is f"
   ]
  },
  {
   "cell_type": "code",
   "execution_count": 54,
   "id": "d30358dd-4975-4818-a042-2958e20fcabd",
   "metadata": {},
   "outputs": [
    {
     "data": {
      "text/plain": [
       "True"
      ]
     },
     "execution_count": 54,
     "metadata": {},
     "output_type": "execute_result"
    }
   ],
   "source": [
    "f is e"
   ]
  },
  {
   "cell_type": "code",
   "execution_count": 55,
   "id": "238e9e02-520c-4ec5-841c-fada3286c4d6",
   "metadata": {},
   "outputs": [],
   "source": [
    "g = \"pw skills\""
   ]
  },
  {
   "cell_type": "code",
   "execution_count": 56,
   "id": "970871a6-b92b-4628-877e-838d5faee7c1",
   "metadata": {},
   "outputs": [],
   "source": [
    "h = \"data analytics\""
   ]
  },
  {
   "cell_type": "code",
   "execution_count": 57,
   "id": "22b2a0c4-dde4-4891-bab5-310974760929",
   "metadata": {},
   "outputs": [
    {
     "data": {
      "text/plain": [
       "False"
      ]
     },
     "execution_count": 57,
     "metadata": {},
     "output_type": "execute_result"
    }
   ],
   "source": [
    "g is h"
   ]
  },
  {
   "cell_type": "code",
   "execution_count": 58,
   "id": "861a1cf9-9049-4fd0-89a3-cbbdff25ed7c",
   "metadata": {},
   "outputs": [
    {
     "data": {
      "text/plain": [
       "True"
      ]
     },
     "execution_count": 58,
     "metadata": {},
     "output_type": "execute_result"
    }
   ],
   "source": [
    "g is not h"
   ]
  },
  {
   "cell_type": "code",
   "execution_count": 59,
   "id": "5fed1feb-d162-46a2-80d0-81eee9630555",
   "metadata": {},
   "outputs": [],
   "source": [
    "#Q.6 Perform bitwise operations on any two integers."
   ]
  },
  {
   "cell_type": "code",
   "execution_count": 60,
   "id": "edf1e5e4-ac6a-42fa-b681-84652110da0b",
   "metadata": {},
   "outputs": [
    {
     "data": {
      "text/plain": [
       "20"
      ]
     },
     "execution_count": 60,
     "metadata": {},
     "output_type": "execute_result"
    }
   ],
   "source": [
    "20&20"
   ]
  },
  {
   "cell_type": "code",
   "execution_count": 61,
   "id": "a5da4874-e0d5-48b9-9cf6-a71fa7250478",
   "metadata": {},
   "outputs": [
    {
     "data": {
      "text/plain": [
       "4"
      ]
     },
     "execution_count": 61,
     "metadata": {},
     "output_type": "execute_result"
    }
   ],
   "source": [
    "15&4"
   ]
  },
  {
   "cell_type": "code",
   "execution_count": 62,
   "id": "0a53098f-b277-4175-8cac-9aed63f3c09e",
   "metadata": {},
   "outputs": [
    {
     "data": {
      "text/plain": [
       "'0b1111'"
      ]
     },
     "execution_count": 62,
     "metadata": {},
     "output_type": "execute_result"
    }
   ],
   "source": [
    "bin(15)"
   ]
  },
  {
   "cell_type": "code",
   "execution_count": 63,
   "id": "492496e0-77c4-47b6-a6ce-57aca608269b",
   "metadata": {},
   "outputs": [
    {
     "data": {
      "text/plain": [
       "'0b100'"
      ]
     },
     "execution_count": 63,
     "metadata": {},
     "output_type": "execute_result"
    }
   ],
   "source": [
    "bin(4)"
   ]
  },
  {
   "cell_type": "code",
   "execution_count": 64,
   "id": "aa961efe-b20c-4486-8e3e-8c191e8f3182",
   "metadata": {},
   "outputs": [
    {
     "data": {
      "text/plain": [
       "2"
      ]
     },
     "execution_count": 64,
     "metadata": {},
     "output_type": "execute_result"
    }
   ],
   "source": [
    "18&3"
   ]
  },
  {
   "cell_type": "code",
   "execution_count": 65,
   "id": "2de2fb20-d36c-4078-8aee-7023ca79ba18",
   "metadata": {},
   "outputs": [
    {
     "data": {
      "text/plain": [
       "'0b10010'"
      ]
     },
     "execution_count": 65,
     "metadata": {},
     "output_type": "execute_result"
    }
   ],
   "source": [
    "bin(18)"
   ]
  },
  {
   "cell_type": "code",
   "execution_count": 66,
   "id": "effe2b04-6b7c-4ddf-9da9-c2ce7c6c8097",
   "metadata": {},
   "outputs": [
    {
     "data": {
      "text/plain": [
       "'0b11'"
      ]
     },
     "execution_count": 66,
     "metadata": {},
     "output_type": "execute_result"
    }
   ],
   "source": [
    "bin(3)"
   ]
  },
  {
   "cell_type": "code",
   "execution_count": 67,
   "id": "f3aa51fc-2796-44a0-a535-03d8a3ea39b6",
   "metadata": {},
   "outputs": [
    {
     "data": {
      "text/plain": [
       "'0b10'"
      ]
     },
     "execution_count": 67,
     "metadata": {},
     "output_type": "execute_result"
    }
   ],
   "source": [
    "bin(2)"
   ]
  },
  {
   "cell_type": "code",
   "execution_count": 68,
   "id": "0f9b8863-b90f-47f2-a0a9-a305cee51d78",
   "metadata": {},
   "outputs": [
    {
     "data": {
      "text/plain": [
       "7"
      ]
     },
     "execution_count": 68,
     "metadata": {},
     "output_type": "execute_result"
    }
   ],
   "source": [
    "7|5"
   ]
  },
  {
   "cell_type": "code",
   "execution_count": 69,
   "id": "86fd6cc8-0819-446d-aa05-d7b2e11314ab",
   "metadata": {},
   "outputs": [
    {
     "data": {
      "text/plain": [
       "'0b111'"
      ]
     },
     "execution_count": 69,
     "metadata": {},
     "output_type": "execute_result"
    }
   ],
   "source": [
    "bin(7)"
   ]
  },
  {
   "cell_type": "code",
   "execution_count": 70,
   "id": "c2295a68-485c-4400-9fd4-807f07b8a885",
   "metadata": {},
   "outputs": [
    {
     "data": {
      "text/plain": [
       "'0b101'"
      ]
     },
     "execution_count": 70,
     "metadata": {},
     "output_type": "execute_result"
    }
   ],
   "source": [
    "bin(5)"
   ]
  },
  {
   "cell_type": "code",
   "execution_count": 71,
   "id": "3597a463-798c-40c8-98a7-51c0216c67ed",
   "metadata": {},
   "outputs": [
    {
     "data": {
      "text/plain": [
       "15"
      ]
     },
     "execution_count": 71,
     "metadata": {},
     "output_type": "execute_result"
    }
   ],
   "source": [
    "7|9"
   ]
  },
  {
   "cell_type": "code",
   "execution_count": 72,
   "id": "64fa79b4-eb1e-4e7b-a401-4505faa30a59",
   "metadata": {},
   "outputs": [
    {
     "data": {
      "text/plain": [
       "'0b111'"
      ]
     },
     "execution_count": 72,
     "metadata": {},
     "output_type": "execute_result"
    }
   ],
   "source": [
    "bin(7)"
   ]
  },
  {
   "cell_type": "code",
   "execution_count": 73,
   "id": "0b30312a-5c84-42aa-9d93-93e372354b50",
   "metadata": {},
   "outputs": [
    {
     "data": {
      "text/plain": [
       "'0b1001'"
      ]
     },
     "execution_count": 73,
     "metadata": {},
     "output_type": "execute_result"
    }
   ],
   "source": [
    "bin(9)"
   ]
  },
  {
   "cell_type": "code",
   "execution_count": 74,
   "id": "e6c9b44d-ade2-4102-a8d8-4597cd4d2c72",
   "metadata": {},
   "outputs": [
    {
     "data": {
      "text/plain": [
       "'0b1111'"
      ]
     },
     "execution_count": 74,
     "metadata": {},
     "output_type": "execute_result"
    }
   ],
   "source": [
    "bin(15)"
   ]
  },
  {
   "cell_type": "code",
   "execution_count": 75,
   "id": "6945eb3f-9924-4d4c-b1a2-d0e1f58ffcfd",
   "metadata": {},
   "outputs": [
    {
     "data": {
      "text/plain": [
       "-8"
      ]
     },
     "execution_count": 75,
     "metadata": {},
     "output_type": "execute_result"
    }
   ],
   "source": [
    "~7"
   ]
  },
  {
   "cell_type": "code",
   "execution_count": 76,
   "id": "c37547b5-d040-4b53-8559-fcdfafc4a7e4",
   "metadata": {},
   "outputs": [
    {
     "data": {
      "text/plain": [
       "-786"
      ]
     },
     "execution_count": 76,
     "metadata": {},
     "output_type": "execute_result"
    }
   ],
   "source": [
    "~785"
   ]
  },
  {
   "cell_type": "code",
   "execution_count": 77,
   "id": "494af6f9-733b-41ad-a8af-1539ae9e1b8a",
   "metadata": {},
   "outputs": [
    {
     "data": {
      "text/plain": [
       "6"
      ]
     },
     "execution_count": 77,
     "metadata": {},
     "output_type": "execute_result"
    }
   ],
   "source": [
    "5^3"
   ]
  },
  {
   "cell_type": "code",
   "execution_count": 78,
   "id": "17718a4a-ff43-433b-b7c1-a38b61e4d201",
   "metadata": {},
   "outputs": [
    {
     "data": {
      "text/plain": [
       "'0b110'"
      ]
     },
     "execution_count": 78,
     "metadata": {},
     "output_type": "execute_result"
    }
   ],
   "source": [
    "bin(6)"
   ]
  },
  {
   "cell_type": "code",
   "execution_count": 79,
   "id": "374fc5ab-2380-41c4-90b1-f8b3906d76c7",
   "metadata": {},
   "outputs": [
    {
     "data": {
      "text/plain": [
       "'0b101'"
      ]
     },
     "execution_count": 79,
     "metadata": {},
     "output_type": "execute_result"
    }
   ],
   "source": [
    "bin(5)"
   ]
  },
  {
   "cell_type": "code",
   "execution_count": 80,
   "id": "b9283c1e-db64-42da-9f7b-07184187aaca",
   "metadata": {},
   "outputs": [
    {
     "data": {
      "text/plain": [
       "'0b11'"
      ]
     },
     "execution_count": 80,
     "metadata": {},
     "output_type": "execute_result"
    }
   ],
   "source": [
    "bin(3)"
   ]
  },
  {
   "cell_type": "code",
   "execution_count": 1,
   "id": "f6f8f360-aa60-41f0-9635-6679a856fe88",
   "metadata": {},
   "outputs": [],
   "source": [
    "#Q.7 Use unary operators to change the sign of a number"
   ]
  },
  {
   "cell_type": "code",
   "execution_count": 2,
   "id": "e20a6ba5-4c31-42e1-a3f9-b0e9cd027cf2",
   "metadata": {},
   "outputs": [],
   "source": [
    "a = 5"
   ]
  },
  {
   "cell_type": "code",
   "execution_count": 3,
   "id": "ab54b42b-40a3-43e2-870f-9f385d211615",
   "metadata": {},
   "outputs": [],
   "source": [
    "a = -a "
   ]
  },
  {
   "cell_type": "code",
   "execution_count": 4,
   "id": "57677c08-20e4-4f68-a9dd-665d5d88e048",
   "metadata": {},
   "outputs": [
    {
     "name": "stdout",
     "output_type": "stream",
     "text": [
      "-5\n"
     ]
    }
   ],
   "source": [
    "print(a)"
   ]
  },
  {
   "cell_type": "code",
   "execution_count": 5,
   "id": "52591278-4258-4fc4-a6d1-cad7811841a2",
   "metadata": {},
   "outputs": [],
   "source": [
    "b = -9"
   ]
  },
  {
   "cell_type": "code",
   "execution_count": 6,
   "id": "bbeb636b-dc50-4baf-b383-6474a93b7c1c",
   "metadata": {},
   "outputs": [],
   "source": [
    "b = -b"
   ]
  },
  {
   "cell_type": "code",
   "execution_count": 7,
   "id": "b73569d8-b555-4d5b-9404-a24da8f4d081",
   "metadata": {},
   "outputs": [
    {
     "name": "stdout",
     "output_type": "stream",
     "text": [
      "9\n"
     ]
    }
   ],
   "source": [
    "print(b)"
   ]
  },
  {
   "cell_type": "code",
   "execution_count": 8,
   "id": "ee5328fc-5168-4b7c-8897-039625d5541c",
   "metadata": {},
   "outputs": [],
   "source": [
    "#Q.8 Use the ternary operator to assign values based on conditions."
   ]
  },
  {
   "cell_type": "code",
   "execution_count": 9,
   "id": "b35b0ced-fc45-4a8d-abb2-5980cdcdd0d7",
   "metadata": {},
   "outputs": [],
   "source": [
    "age = 22"
   ]
  },
  {
   "cell_type": "code",
   "execution_count": 10,
   "id": "02871ae0-d290-49f7-8dd5-a38784449bad",
   "metadata": {},
   "outputs": [],
   "source": [
    "is_adult = True if age >=18 else False"
   ]
  },
  {
   "cell_type": "code",
   "execution_count": 11,
   "id": "7bea24af-9e58-49e6-89e2-8442f9f8b1e4",
   "metadata": {},
   "outputs": [
    {
     "name": "stdout",
     "output_type": "stream",
     "text": [
      "True\n"
     ]
    }
   ],
   "source": [
    "print(is_adult)"
   ]
  },
  {
   "cell_type": "code",
   "execution_count": 12,
   "id": "194385d9-1c53-4f8f-abd6-b6f3e8ca7f5d",
   "metadata": {},
   "outputs": [],
   "source": [
    "a = 34"
   ]
  },
  {
   "cell_type": "code",
   "execution_count": 13,
   "id": "64ef0813-980d-4205-8186-c86a7c75bc19",
   "metadata": {},
   "outputs": [],
   "source": [
    "is_positive = a if a >=0 else False"
   ]
  },
  {
   "cell_type": "code",
   "execution_count": 14,
   "id": "695610d7-90be-4758-9147-133389aae9a8",
   "metadata": {},
   "outputs": [
    {
     "name": "stdout",
     "output_type": "stream",
     "text": [
      "34\n"
     ]
    }
   ],
   "source": [
    "print(is_positive)"
   ]
  },
  {
   "cell_type": "code",
   "execution_count": 15,
   "id": "e4a2fad0-098f-45ee-a2d9-790cdf378b48",
   "metadata": {},
   "outputs": [],
   "source": [
    "b = 46"
   ]
  },
  {
   "cell_type": "code",
   "execution_count": 16,
   "id": "a8c15bc5-f4ac-42fc-bb57-b7969bdbc51a",
   "metadata": {},
   "outputs": [],
   "source": [
    "is_positive = b if b <=0 else False"
   ]
  },
  {
   "cell_type": "code",
   "execution_count": 17,
   "id": "0fb75f8d-d00d-4b1b-be8c-abd112c0e480",
   "metadata": {},
   "outputs": [
    {
     "name": "stdout",
     "output_type": "stream",
     "text": [
      "False\n"
     ]
    }
   ],
   "source": [
    "print(is_positive)"
   ]
  },
  {
   "cell_type": "code",
   "execution_count": null,
   "id": "f9ac4e46-2ec5-42f0-ac63-14fa34ef35c3",
   "metadata": {},
   "outputs": [],
   "source": []
  }
 ],
 "metadata": {
  "kernelspec": {
   "display_name": "Python 3 (ipykernel)",
   "language": "python",
   "name": "python3"
  },
  "language_info": {
   "codemirror_mode": {
    "name": "ipython",
    "version": 3
   },
   "file_extension": ".py",
   "mimetype": "text/x-python",
   "name": "python",
   "nbconvert_exporter": "python",
   "pygments_lexer": "ipython3",
   "version": "3.10.8"
  }
 },
 "nbformat": 4,
 "nbformat_minor": 5
}
